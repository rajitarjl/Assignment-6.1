{
 "cells": [
  {
   "cell_type": "markdown",
   "metadata": {},
   "source": [
    "Assignment 6.1\n",
    "\n",
    "Write a function so that the columns of the output matrix are powers of the input vector. The order of the powers is determined by the increasing boolean argument. Specifically, when increasing is False, the i-th output column is the input vector raised element-wise to the power of N - i - 1.\n",
    "\n",
    "HINT: Such a matrix with a geometric progression in each row is named for Alexandre- Theophile Vandermonde.\n",
    "\n",
    "Note: Solution submitted via github must contain all the detailed steps."
   ]
  },
  {
   "cell_type": "code",
   "execution_count": 11,
   "metadata": {},
   "outputs": [
    {
     "name": "stdout",
     "output_type": "stream",
     "text": [
      "My Vandermonde Function - default :\n",
      " [[ 1  1  1]\n",
      " [ 9  3  1]\n",
      " [36  6  1]\n",
      " [49  7  1]]\n",
      "My Vandermonde Function - ascending order :\n",
      " [[ 1  1  1]\n",
      " [ 1  3  9]\n",
      " [ 1  6 36]\n",
      " [ 1  7 49]]\n"
     ]
    }
   ],
   "source": [
    "\n",
    "import numpy as np\n",
    "# Function vander_func\n",
    "#  1st Param : lst is a list\n",
    "#  2nd Param : N is the order of power\n",
    "#  3rd Param : sorting order \n",
    "def myVanderFunc(lst,N,ascending=False):\n",
    "    if ascending:\n",
    "        return np.sort(np.column_stack([lst**(N-1-i) for i in range(N)]),axis=1)\n",
    "    else:\n",
    "        return np.column_stack([lst**(N-1-i) for i in range(N)])\n",
    "    \n",
    "\n",
    "default=myVanderFunc(np.array([1, 3, 6, 7]),3)\n",
    "print(\"My Vandermonde Function - default :\\n\" , default)\n",
    "\n",
    "ascending=myVanderFunc(np.array([1, 3, 6, 7]),3,True)\n",
    "print(\"My Vandermonde Function - ascending order :\\n\" , ascending)"
   ]
  },
  {
   "cell_type": "code",
   "execution_count": 14,
   "metadata": {},
   "outputs": [
    {
     "name": "stdout",
     "output_type": "stream",
     "text": [
      "[[ 1  1  1]\n",
      " [ 9  3  1]\n",
      " [36  6  1]\n",
      " [49  7  1]]\n"
     ]
    }
   ],
   "source": [
    "# Using Vander Function\n",
    "arr1 = np.array([1,3,6,7])\n",
    "N=3\n",
    "vander1 = np.vander(arr1,N)\n",
    "print(vander1)"
   ]
  },
  {
   "cell_type": "code",
   "execution_count": 15,
   "metadata": {},
   "outputs": [
    {
     "name": "stdout",
     "output_type": "stream",
     "text": [
      "[[ 1  1  1]\n",
      " [ 1  3  9]\n",
      " [ 1  6 36]\n",
      " [ 1  7 49]]\n"
     ]
    }
   ],
   "source": [
    "vander2 = np.vander(arr1,N, increasing=True)\n",
    "print(vander2)"
   ]
  },
  {
   "cell_type": "code",
   "execution_count": null,
   "metadata": {},
   "outputs": [],
   "source": []
  }
 ],
 "metadata": {
  "kernelspec": {
   "display_name": "Python 3",
   "language": "python",
   "name": "python3"
  },
  "language_info": {
   "codemirror_mode": {
    "name": "ipython",
    "version": 3
   },
   "file_extension": ".py",
   "mimetype": "text/x-python",
   "name": "python",
   "nbconvert_exporter": "python",
   "pygments_lexer": "ipython3",
   "version": "3.6.5"
  }
 },
 "nbformat": 4,
 "nbformat_minor": 2
}
